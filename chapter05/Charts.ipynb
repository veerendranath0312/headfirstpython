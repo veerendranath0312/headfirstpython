{
 "cells": [
  {
   "cell_type": "code",
   "execution_count": 1,
   "metadata": {},
   "outputs": [],
   "source": [
    "import swimclub\n",
    "\n",
    "fn = \"Darius-13-100m-Fly.txt\"\n",
    "\n",
    "(swimmer, age, distance, stroke, *_) = swimclub.read_swim_data(fn)\n",
    "\n",
    "title = swimmer + \" (Under \" + age + \") \" + distance + \" \" + stroke"
   ]
  },
  {
   "cell_type": "code",
   "execution_count": 2,
   "metadata": {},
   "outputs": [
    {
     "data": {
      "text/plain": [
       "'Darius (Under 13) 100m Fly'"
      ]
     },
     "execution_count": 2,
     "metadata": {},
     "output_type": "execute_result"
    }
   ],
   "source": [
    "title"
   ]
  },
  {
   "cell_type": "code",
   "execution_count": 3,
   "metadata": {},
   "outputs": [],
   "source": [
    "html = \"<!DOCTYPE html><html><head><title>\" + title\n",
    "html = html + \"</title></head><body><h3>\" + title + \"</h3>\""
   ]
  },
  {
   "cell_type": "code",
   "execution_count": 4,
   "metadata": {},
   "outputs": [
    {
     "data": {
      "text/plain": [
       "'<!DOCTYPE html><html><head><title>Darius (Under 13) 100m Fly</title></head><body><h3>Darius (Under 13) 100m Fly</h3>'"
      ]
     },
     "execution_count": 4,
     "metadata": {},
     "output_type": "execute_result"
    }
   ],
   "source": [
    "html"
   ]
  },
  {
   "cell_type": "code",
   "execution_count": 5,
   "metadata": {},
   "outputs": [],
   "source": [
    "title = f\"{swimmer} (Under {age}) {distance} {stroke}\""
   ]
  },
  {
   "cell_type": "code",
   "execution_count": 6,
   "metadata": {},
   "outputs": [
    {
     "data": {
      "text/plain": [
       "'Darius (Under 13) 100m Fly'"
      ]
     },
     "execution_count": 6,
     "metadata": {},
     "output_type": "execute_result"
    }
   ],
   "source": [
    "title"
   ]
  },
  {
   "cell_type": "code",
   "execution_count": 7,
   "metadata": {},
   "outputs": [],
   "source": [
    "html = f'''\n",
    "<!DOCTYPE html>\n",
    "<html>\n",
    "    <head>\n",
    "        <title>{title}</title>\n",
    "    </head>\n",
    "    <body>\n",
    "        <h3>{title}</h3>\n",
    "'''"
   ]
  },
  {
   "cell_type": "code",
   "execution_count": 8,
   "metadata": {},
   "outputs": [
    {
     "name": "stdout",
     "output_type": "stream",
     "text": [
      "\n",
      "<!DOCTYPE html>\n",
      "<html>\n",
      "    <head>\n",
      "        <title>Darius (Under 13) 100m Fly</title>\n",
      "    </head>\n",
      "    <body>\n",
      "        <h3>Darius (Under 13) 100m Fly</h3>\n",
      "\n"
     ]
    }
   ],
   "source": [
    "print(html)"
   ]
  },
  {
   "cell_type": "code",
   "execution_count": 9,
   "metadata": {},
   "outputs": [],
   "source": [
    "import swimclub\n",
    "import hfpy_utils\n",
    "\n",
    "fn = \"Darius-13-100m-Fly.txt\"\n",
    "*_, times, average, converts = swimclub.read_swim_data(fn)\n",
    "\n",
    "from_max = max(converts)\n",
    "svgs = \"\"\n",
    "\n",
    "times.reverse()\n",
    "converts.reverse()\n",
    "for n, t in enumerate(times):\n",
    "    bar_width = hfpy_utils.convert2range(converts[n], 0, from_max, 0, 350)\n",
    "    svg = f'''\n",
    "        <svg height=\"30\" width=\"400\">\n",
    "            <rect height=\"30\" width=\"{bar_width}\" style=\"fill:rgb(0, 0, 255);\" />\n",
    "        </svg> {t}<br/>\n",
    "    '''\n",
    "\n",
    "    svgs += svg"
   ]
  },
  {
   "cell_type": "code",
   "execution_count": 10,
   "metadata": {},
   "outputs": [
    {
     "name": "stdout",
     "output_type": "stream",
     "text": [
      "\n",
      "        <svg height=\"30\" width=\"400\">\n",
      "            <rect height=\"30\" width=\"339.76\" style=\"fill:rgb(0, 0, 255);\" />\n",
      "        </svg> 1:28.30<br/>\n",
      "    \n",
      "        <svg height=\"30\" width=\"400\">\n",
      "            <rect height=\"30\" width=\"338.42\" style=\"fill:rgb(0, 0, 255);\" />\n",
      "        </svg> 1:27.95<br/>\n",
      "    \n",
      "        <svg height=\"30\" width=\"400\">\n",
      "            <rect height=\"30\" width=\"320.22\" style=\"fill:rgb(0, 0, 255);\" />\n",
      "        </svg> 1:23.22<br/>\n",
      "    \n",
      "        <svg height=\"30\" width=\"400\">\n",
      "            <rect height=\"30\" width=\"350.0\" style=\"fill:rgb(0, 0, 255);\" />\n",
      "        </svg> 1:30.96<br/>\n",
      "    \n",
      "        <svg height=\"30\" width=\"400\">\n",
      "            <rect height=\"30\" width=\"311.94\" style=\"fill:rgb(0, 0, 255);\" />\n",
      "        </svg> 1:21.07<br/>\n",
      "    \n",
      "        <svg height=\"30\" width=\"400\">\n",
      "            <rect height=\"30\" width=\"338.42\" style=\"fill:rgb(0, 0, 255);\" />\n",
      "        </svg> 1:27.95<br/>\n",
      "    \n"
     ]
    }
   ],
   "source": [
    "print(svgs)"
   ]
  },
  {
   "cell_type": "code",
   "execution_count": 11,
   "metadata": {},
   "outputs": [],
   "source": [
    "footer = f'''\n",
    "        <p>Average time: {average}</p>\n",
    "    </body>\n",
    "</html>\n",
    "'''"
   ]
  },
  {
   "cell_type": "code",
   "execution_count": 12,
   "metadata": {},
   "outputs": [],
   "source": [
    "page = html + svgs + footer"
   ]
  },
  {
   "cell_type": "code",
   "execution_count": 13,
   "metadata": {},
   "outputs": [
    {
     "data": {
      "text/plain": [
       "'\\n<!DOCTYPE html>\\n<html>\\n    <head>\\n        <title>Darius (Under 13) 100m Fly</title>\\n    </head>\\n    <body>\\n        <h3>Darius (Under 13) 100m Fly</h3>\\n\\n        <svg height=\"30\" width=\"400\">\\n            <rect height=\"30\" width=\"339.76\" style=\"fill:rgb(0, 0, 255);\" />\\n        </svg> 1:28.30<br/>\\n    \\n        <svg height=\"30\" width=\"400\">\\n            <rect height=\"30\" width=\"338.42\" style=\"fill:rgb(0, 0, 255);\" />\\n        </svg> 1:27.95<br/>\\n    \\n        <svg height=\"30\" width=\"400\">\\n            <rect height=\"30\" width=\"320.22\" style=\"fill:rgb(0, 0, 255);\" />\\n        </svg> 1:23.22<br/>\\n    \\n        <svg height=\"30\" width=\"400\">\\n            <rect height=\"30\" width=\"350.0\" style=\"fill:rgb(0, 0, 255);\" />\\n        </svg> 1:30.96<br/>\\n    \\n        <svg height=\"30\" width=\"400\">\\n            <rect height=\"30\" width=\"311.94\" style=\"fill:rgb(0, 0, 255);\" />\\n        </svg> 1:21.07<br/>\\n    \\n        <svg height=\"30\" width=\"400\">\\n            <rect height=\"30\" width=\"338.42\" style=\"fill:rgb(0, 0, 255);\" />\\n        </svg> 1:27.95<br/>\\n    \\n        <p>Average time: 1:26:58</p>\\n    </body>\\n</html>\\n'"
      ]
     },
     "execution_count": 13,
     "metadata": {},
     "output_type": "execute_result"
    }
   ],
   "source": [
    "page"
   ]
  },
  {
   "cell_type": "code",
   "execution_count": 14,
   "metadata": {},
   "outputs": [],
   "source": [
    "with open(\"text.txt\", \"w\") as tf:\n",
    "    print(\"This is a test.\", file=tf)"
   ]
  },
  {
   "cell_type": "code",
   "execution_count": 15,
   "metadata": {},
   "outputs": [],
   "source": [
    "save_to = f\"charts/{fn.removesuffix('.txt')}.html\"\n",
    "\n",
    "with open(save_to, \"w\") as sf:\n",
    "    print(page, file=sf)"
   ]
  },
  {
   "cell_type": "code",
   "execution_count": 16,
   "metadata": {},
   "outputs": [],
   "source": [
    "import os\n",
    "import webbrowser"
   ]
  },
  {
   "cell_type": "code",
   "execution_count": 17,
   "metadata": {},
   "outputs": [
    {
     "data": {
      "text/plain": [
       "True"
      ]
     },
     "execution_count": 17,
     "metadata": {},
     "output_type": "execute_result"
    }
   ],
   "source": [
    "webbrowser.open(\"file://\" + os.path.realpath(save_to))"
   ]
  },
  {
   "cell_type": "code",
   "execution_count": 18,
   "metadata": {},
   "outputs": [
    {
     "data": {
      "text/plain": [
       "'charts/Darius-13-100m-Fly.html'"
      ]
     },
     "execution_count": 18,
     "metadata": {},
     "output_type": "execute_result"
    }
   ],
   "source": [
    "import os\n",
    "import swimclub\n",
    "import webbrowser\n",
    "\n",
    "swimclub.produce_bar_charts(\"Darius-13-100m-Fly.txt\")"
   ]
  },
  {
   "cell_type": "code",
   "execution_count": 19,
   "metadata": {},
   "outputs": [
    {
     "data": {
      "text/plain": [
       "True"
      ]
     },
     "execution_count": 19,
     "metadata": {},
     "output_type": "execute_result"
    }
   ],
   "source": [
    "chart = swimclub.produce_bar_charts(\"Darius-13-100m-Fly.txt\")\n",
    "webbrowser.open(\"file:/\" + os.path.realpath(chart))"
   ]
  },
  {
   "cell_type": "code",
   "execution_count": 20,
   "metadata": {},
   "outputs": [
    {
     "data": {
      "text/plain": [
       "True"
      ]
     },
     "execution_count": 20,
     "metadata": {},
     "output_type": "execute_result"
    }
   ],
   "source": [
    "chart = swimclub.produce_bar_charts(\"Dave-17-100m-Free.txt\")\n",
    "webbrowser.open(\"file:/\" + os.path.realpath(chart))"
   ]
  },
  {
   "cell_type": "code",
   "execution_count": 22,
   "metadata": {},
   "outputs": [
    {
     "data": {
      "text/plain": [
       "True"
      ]
     },
     "execution_count": 22,
     "metadata": {},
     "output_type": "execute_result"
    }
   ],
   "source": [
    "chart = swimclub.produce_bar_charts(\"Lizzie-14-100m-Back.txt\")\n",
    "webbrowser.open(\"file:/\" + os.path.realpath(chart))"
   ]
  },
  {
   "cell_type": "code",
   "execution_count": null,
   "metadata": {},
   "outputs": [],
   "source": []
  }
 ],
 "metadata": {
  "kernelspec": {
   "display_name": "Python 3",
   "language": "python",
   "name": "python3"
  },
  "language_info": {
   "codemirror_mode": {
    "name": "ipython",
    "version": 3
   },
   "file_extension": ".py",
   "mimetype": "text/x-python",
   "name": "python",
   "nbconvert_exporter": "python",
   "pygments_lexer": "ipython3",
   "version": "3.12.1"
  }
 },
 "nbformat": 4,
 "nbformat_minor": 2
}
